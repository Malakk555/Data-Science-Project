{
  "nbformat": 4,
  "nbformat_minor": 0,
  "metadata": {
    "colab": {
      "provenance": [],
      "include_colab_link": true
    },
    "kernelspec": {
      "name": "python3",
      "display_name": "Python 3"
    },
    "language_info": {
      "name": "python"
    }
  },
  "cells": [
    {
      "cell_type": "markdown",
      "metadata": {
        "id": "view-in-github",
        "colab_type": "text"
      },
      "source": [
        "<a href=\"https://colab.research.google.com/github/norasaleh1/Data-Science-Project/blob/main/IT362_project.ipynb\" target=\"_parent\"><img src=\"https://colab.research.google.com/assets/colab-badge.svg\" alt=\"Open In Colab\"/></a>"
      ]
    },
    {
      "cell_type": "code",
      "source": [
        "#امبورت حق السيلينيوم\n",
        "!pip install selenium\n",
        "!pip install selenium webdriver_manager\n",
        "\n",
        "import csv\n",
        "import os\n",
        "import pandas as pd\n",
        "import time\n",
        "import requests\n",
        "from bs4 import BeautifulSoup\n",
        "import pathlib\n",
        "from datetime import datetime\n",
        "\n",
        "from selenium import webdriver\n",
        "from selenium.webdriver.common.by import By\n",
        "from selenium.webdriver.support.ui import WebDriverWait\n",
        "from selenium.webdriver.support import expected_conditions as EC\n",
        "\n",
        "chrome_options = webdriver.ChromeOptions()\n",
        "chrome_options.add_argument('--headless')\n",
        "chrome_options.add_argument('--no-sandbox')\n",
        "chrome_options.add_argument('--disable-dev-shm-usage')\n",
        "chrome_options.add_argument(\"--window-size=1920,1080\")\n",
        "\n",
        "driver = webdriver.Chrome(options=chrome_options)\n",
        "\n"
      ],
      "metadata": {
        "id": "AgYeaBQlpW6h",
        "colab": {
          "base_uri": "https://localhost:8080/"
        },
        "outputId": "6e923bd8-f24b-415d-d090-5d3cad01b1a2"
      },
      "execution_count": null,
      "outputs": [
        {
          "output_type": "stream",
          "name": "stdout",
          "text": [
            "Requirement already satisfied: selenium in /usr/local/lib/python3.12/dist-packages (4.35.0)\n",
            "Requirement already satisfied: urllib3<3.0,>=2.5.0 in /usr/local/lib/python3.12/dist-packages (from urllib3[socks]<3.0,>=2.5.0->selenium) (2.5.0)\n",
            "Requirement already satisfied: trio~=0.30.0 in /usr/local/lib/python3.12/dist-packages (from selenium) (0.30.0)\n",
            "Requirement already satisfied: trio-websocket~=0.12.2 in /usr/local/lib/python3.12/dist-packages (from selenium) (0.12.2)\n",
            "Requirement already satisfied: certifi>=2025.6.15 in /usr/local/lib/python3.12/dist-packages (from selenium) (2025.8.3)\n",
            "Requirement already satisfied: typing_extensions~=4.14.0 in /usr/local/lib/python3.12/dist-packages (from selenium) (4.14.1)\n",
            "Requirement already satisfied: websocket-client~=1.8.0 in /usr/local/lib/python3.12/dist-packages (from selenium) (1.8.0)\n",
            "Requirement already satisfied: attrs>=23.2.0 in /usr/local/lib/python3.12/dist-packages (from trio~=0.30.0->selenium) (25.3.0)\n",
            "Requirement already satisfied: sortedcontainers in /usr/local/lib/python3.12/dist-packages (from trio~=0.30.0->selenium) (2.4.0)\n",
            "Requirement already satisfied: idna in /usr/local/lib/python3.12/dist-packages (from trio~=0.30.0->selenium) (3.10)\n",
            "Requirement already satisfied: outcome in /usr/local/lib/python3.12/dist-packages (from trio~=0.30.0->selenium) (1.3.0.post0)\n",
            "Requirement already satisfied: sniffio>=1.3.0 in /usr/local/lib/python3.12/dist-packages (from trio~=0.30.0->selenium) (1.3.1)\n",
            "Requirement already satisfied: wsproto>=0.14 in /usr/local/lib/python3.12/dist-packages (from trio-websocket~=0.12.2->selenium) (1.2.0)\n",
            "Requirement already satisfied: pysocks!=1.5.7,<2.0,>=1.5.6 in /usr/local/lib/python3.12/dist-packages (from urllib3[socks]<3.0,>=2.5.0->selenium) (1.7.1)\n",
            "Requirement already satisfied: h11<1,>=0.9.0 in /usr/local/lib/python3.12/dist-packages (from wsproto>=0.14->trio-websocket~=0.12.2->selenium) (0.16.0)\n",
            "Requirement already satisfied: selenium in /usr/local/lib/python3.12/dist-packages (4.35.0)\n",
            "Requirement already satisfied: webdriver_manager in /usr/local/lib/python3.12/dist-packages (4.0.2)\n",
            "Requirement already satisfied: urllib3<3.0,>=2.5.0 in /usr/local/lib/python3.12/dist-packages (from urllib3[socks]<3.0,>=2.5.0->selenium) (2.5.0)\n",
            "Requirement already satisfied: trio~=0.30.0 in /usr/local/lib/python3.12/dist-packages (from selenium) (0.30.0)\n",
            "Requirement already satisfied: trio-websocket~=0.12.2 in /usr/local/lib/python3.12/dist-packages (from selenium) (0.12.2)\n",
            "Requirement already satisfied: certifi>=2025.6.15 in /usr/local/lib/python3.12/dist-packages (from selenium) (2025.8.3)\n",
            "Requirement already satisfied: typing_extensions~=4.14.0 in /usr/local/lib/python3.12/dist-packages (from selenium) (4.14.1)\n",
            "Requirement already satisfied: websocket-client~=1.8.0 in /usr/local/lib/python3.12/dist-packages (from selenium) (1.8.0)\n",
            "Requirement already satisfied: requests in /usr/local/lib/python3.12/dist-packages (from webdriver_manager) (2.32.4)\n",
            "Requirement already satisfied: python-dotenv in /usr/local/lib/python3.12/dist-packages (from webdriver_manager) (1.1.1)\n",
            "Requirement already satisfied: packaging in /usr/local/lib/python3.12/dist-packages (from webdriver_manager) (25.0)\n",
            "Requirement already satisfied: attrs>=23.2.0 in /usr/local/lib/python3.12/dist-packages (from trio~=0.30.0->selenium) (25.3.0)\n",
            "Requirement already satisfied: sortedcontainers in /usr/local/lib/python3.12/dist-packages (from trio~=0.30.0->selenium) (2.4.0)\n",
            "Requirement already satisfied: idna in /usr/local/lib/python3.12/dist-packages (from trio~=0.30.0->selenium) (3.10)\n",
            "Requirement already satisfied: outcome in /usr/local/lib/python3.12/dist-packages (from trio~=0.30.0->selenium) (1.3.0.post0)\n",
            "Requirement already satisfied: sniffio>=1.3.0 in /usr/local/lib/python3.12/dist-packages (from trio~=0.30.0->selenium) (1.3.1)\n",
            "Requirement already satisfied: wsproto>=0.14 in /usr/local/lib/python3.12/dist-packages (from trio-websocket~=0.12.2->selenium) (1.2.0)\n",
            "Requirement already satisfied: pysocks!=1.5.7,<2.0,>=1.5.6 in /usr/local/lib/python3.12/dist-packages (from urllib3[socks]<3.0,>=2.5.0->selenium) (1.7.1)\n",
            "Requirement already satisfied: charset_normalizer<4,>=2 in /usr/local/lib/python3.12/dist-packages (from requests->webdriver_manager) (3.4.3)\n",
            "Requirement already satisfied: h11<1,>=0.9.0 in /usr/local/lib/python3.12/dist-packages (from wsproto>=0.14->trio-websocket~=0.12.2->selenium) (0.16.0)\n"
          ]
        }
      ]
    },
    {
      "cell_type": "markdown",
      "source": [
        "Qiwa frequently asked questions scraping:\n",
        "\n",
        "\n"
      ],
      "metadata": {
        "id": "L2CX5-dmKIqB"
      }
    },
    {
      "cell_type": "code",
      "execution_count": null,
      "metadata": {
        "id": "zf2vOf4mk6Iw",
        "colab": {
          "base_uri": "https://localhost:8080/"
        },
        "outputId": "7666bbf4-9b1b-425c-d257-d14224c59e3d"
      },
      "outputs": [
        {
          "output_type": "stream",
          "name": "stdout",
          "text": [
            "تم حفظ البيانات بنجاح في ملف labor_law_qa.csv\n"
          ]
        }
      ],
      "source": [
        "url = 'https://qiwa.sa/ar/labor-law'\n",
        "driver.get(url)\n",
        "\n",
        "#Waiting to fully load the page\n",
        "time.sleep(5)\n",
        "\n",
        "#Finding all the accordion buttons\n",
        "accordions = driver.find_elements(By.CSS_SELECTOR, 'button.accordion')\n",
        "\n",
        "data = []\n",
        "\n",
        "for accordion in accordions:\n",
        "    try:\n",
        "        #Getting the question\n",
        "        question_element = accordion.find_element(By.CSS_SELECTOR, '.accordion__title')\n",
        "        question_text = question_element.text.strip()\n",
        "\n",
        "        #Clicking on the accordion\n",
        "        driver.execute_script(\"arguments[0].click();\", accordion)\n",
        "        time.sleep(1)\n",
        "\n",
        "        #Searching for the answer\n",
        "        answer_container = accordion.find_element(By.XPATH, './following-sibling::div[@class=\"accordion__content\"]')\n",
        "        answer_element = answer_container.find_element(By.CSS_SELECTOR, 'div.text-wrapper__text')\n",
        "        answer_text = answer_element.text.strip()\n",
        "\n",
        "        data.append({\n",
        "            'Question': question_text,\n",
        "            'Answer': answer_text\n",
        "        })\n",
        "\n",
        "        #Reclicking the accordion\n",
        "        driver.execute_script(\"arguments[0].click();\", accordion)\n",
        "        time.sleep(0.5)\n",
        "\n",
        "    except Exception as e:\n",
        "        print(f\"حدث خطأ: {e}\")\n",
        "        continue\n",
        "\n",
        "#Saving data to csv file\n",
        "df = pd.DataFrame(data)\n",
        "df.to_csv('labor_law_faq.csv', index=False, encoding='utf-8-sig')\n",
        "\n",
        "print(\"تم حفظ البيانات بنجاح في ملف labor_law_qa.csv\")"
      ]
    },
    {
      "cell_type": "markdown",
      "source": [
        "\n",
        "\n",
        "\n",
        "Qiwa website scraping:"
      ],
      "metadata": {
        "id": "n_TVAMwJdt0c"
      }
    },
    {
      "cell_type": "code",
      "source": [
        "def scrape_qiwa(url, file_name=\"qiwa_data.csv\"):\n",
        "    try:\n",
        "        #Open the URL\n",
        "        driver.get(url)\n",
        "\n",
        "        #Wait until the main content wrapper is visible\n",
        "        wait = WebDriverWait(driver, 20)\n",
        "        wait.until(EC.presence_of_element_located((By.CSS_SELECTOR, \"div.text-wrapper__text\")))\n",
        "\n",
        "        #Collect all child text elements\n",
        "        content_elements = driver.find_elements(By.CSS_SELECTOR, \"div.text-wrapper__text *\")\n",
        "        content_text = \"\\n\".join([el.text.strip() for el in content_elements if el.text.strip()])\n",
        "\n",
        "        #Prepare the data for CSV\n",
        "        data_to_save = [{'URL': url, 'Content': content_text}]\n",
        "\n",
        "        #Append to CSV (create file if missing)\n",
        "        file_exists = os.path.isfile(file_name)\n",
        "        with open(file_name, 'a', newline='', encoding='utf-8-sig') as csvfile:\n",
        "            fieldnames = ['URL', 'Content']\n",
        "            writer = csv.DictWriter(csvfile, fieldnames=fieldnames)\n",
        "\n",
        "            #Write header if file is new\n",
        "            if not file_exists:\n",
        "                writer.writeheader()\n",
        "\n",
        "            writer.writerows(data_to_save)\n",
        "\n",
        "        print(f\"✅ Successfully scraped and appended content from {url} to {file_name}\")\n",
        "\n",
        "    except Exception as e:\n",
        "        print(f\"❌ An error occurred: {e}\")\n",
        "\n",
        "#Calling funcaton to scrape multiple urls in the same file:\n",
        "scrape_qiwa(\"https://qiwa.sa/ar/labor-law/contracts/definitions-and-general-provisions\")\n",
        "scrape_qiwa(\"https://qiwa.sa/ar/labor-law/contracts/organization-recruitment\")\n",
        "scrape_qiwa(\"https://qiwa.sa/ar/labor-law/non-saudis/employment-non-saudis\")\n",
        "scrape_qiwa(\"https://qiwa.sa/ar/labor-law/contracts/training-and-qualification\")\n",
        "scrape_qiwa(\"https://qiwa.sa/ar/labor-law/contracts/work-relations\")\n",
        "scrape_qiwa(\"https://qiwa.sa/ar/labor-law/contracts/work-conditions-and-circumstances\")\n",
        "scrape_qiwa(\"https://qiwa.sa/ar/labor-law/part-time-work/part-time-work\")\n",
        "scrape_qiwa(\"https://qiwa.sa/ar/labor-law/contracts/protection-occupational-hazards-major-industrial-accidents-and-work-injuries\")\n",
        "scrape_qiwa(\"https://qiwa.sa/ar/labor-law/contracts/employment-women\")\n",
        "scrape_qiwa(\"https://qiwa.sa/ar/labor-law/working-hours-holidays/employment-minors\")\n",
        "scrape_qiwa(\"https://qiwa.sa/ar/labor-law/working-hours-holidays/marine-employment-contract\")\n",
        "scrape_qiwa(\"https://qiwa.sa/ar/labor-law/working-hours-holidays/working-mines-and-quarries\")\n",
        "scrape_qiwa(\"https://qiwa.sa/ar/labor-law/contracts/work-inspection\")\n",
        "scrape_qiwa(\"https://qiwa.sa/ar/labor-law/contracts/commissions-settlement-labor-disputes\")\n",
        "scrape_qiwa(\"https://qiwa.sa/ar/labor-law/penalties/punishments\")\n",
        "scrape_qiwa(\"https://qiwa.sa/ar/labor-law/contracts/concluding-provisions\")"
      ],
      "metadata": {
        "id": "6UkdoC9EbNon",
        "colab": {
          "base_uri": "https://localhost:8080/"
        },
        "outputId": "2e9ff9b7-b3b2-4a7f-b288-ceed0fe20517"
      },
      "execution_count": null,
      "outputs": [
        {
          "output_type": "stream",
          "name": "stdout",
          "text": [
            "✅ Successfully scraped and appended content from https://qiwa.sa/ar/labor-law/contracts/definitions-and-general-provisions to qiwa_data.csv\n",
            "✅ Successfully scraped and appended content from https://qiwa.sa/ar/labor-law/contracts/organization-recruitment to qiwa_data.csv\n",
            "✅ Successfully scraped and appended content from https://qiwa.sa/ar/labor-law/non-saudis/employment-non-saudis to qiwa_data.csv\n",
            "✅ Successfully scraped and appended content from https://qiwa.sa/ar/labor-law/contracts/training-and-qualification to qiwa_data.csv\n",
            "✅ Successfully scraped and appended content from https://qiwa.sa/ar/labor-law/contracts/work-relations to qiwa_data.csv\n",
            "✅ Successfully scraped and appended content from https://qiwa.sa/ar/labor-law/contracts/work-conditions-and-circumstances to qiwa_data.csv\n",
            "✅ Successfully scraped and appended content from https://qiwa.sa/ar/labor-law/part-time-work/part-time-work to qiwa_data.csv\n",
            "✅ Successfully scraped and appended content from https://qiwa.sa/ar/labor-law/contracts/protection-occupational-hazards-major-industrial-accidents-and-work-injuries to qiwa_data.csv\n",
            "✅ Successfully scraped and appended content from https://qiwa.sa/ar/labor-law/contracts/employment-women to qiwa_data.csv\n",
            "✅ Successfully scraped and appended content from https://qiwa.sa/ar/labor-law/working-hours-holidays/employment-minors to qiwa_data.csv\n",
            "✅ Successfully scraped and appended content from https://qiwa.sa/ar/labor-law/working-hours-holidays/marine-employment-contract to qiwa_data.csv\n",
            "✅ Successfully scraped and appended content from https://qiwa.sa/ar/labor-law/working-hours-holidays/working-mines-and-quarries to qiwa_data.csv\n",
            "✅ Successfully scraped and appended content from https://qiwa.sa/ar/labor-law/contracts/work-inspection to qiwa_data.csv\n",
            "✅ Successfully scraped and appended content from https://qiwa.sa/ar/labor-law/contracts/commissions-settlement-labor-disputes to qiwa_data.csv\n",
            "✅ Successfully scraped and appended content from https://qiwa.sa/ar/labor-law/penalties/punishments to qiwa_data.csv\n",
            "✅ Successfully scraped and appended content from https://qiwa.sa/ar/labor-law/contracts/concluding-provisions to qiwa_data.csv\n"
          ]
        }
      ]
    },
    {
      "cell_type": "markdown",
      "source": [
        "\n",
        "\n",
        "\n",
        "\n",
        "# هيئة الخبراء — BOE  \n",
        " url: https://laws.boe.gov.sa/BoeLaws/Laws/LawDetails/08381293-6388-48e2-8ad2-a9a700f2aa94/1\n"
      ],
      "metadata": {
        "id": "L-sCXpMwimya"
      }
    },
    {
      "cell_type": "markdown",
      "source": [
        "BOE – Extraction Function"
      ],
      "metadata": {
        "id": "JrTmKGLp2lWZ"
      }
    },
    {
      "cell_type": "code",
      "source": [
        "# Base URL for BOE Labor Law\n",
        "BOE_URL = \"https://laws.boe.gov.sa/BoeLaws/Laws/LawDetails/08381293-6388-48e2-8ad2-a9a700f2aa94/1\"\n",
        "\n",
        "\n",
        "def extract_boe_laborlaw(url, save_raw=True):\n",
        "    # 1) Request the page\n",
        "    response = requests.get(url, headers={\"User-Agent\": \"Mozilla/5.0\"}, timeout=60)\n",
        "    response.raise_for_status()\n",
        "    response.encoding = response.encoding or \"utf-8\"\n",
        "    html_text = response.text\n",
        "\n",
        "    # (Optional) Save raw HTML\n",
        "    raw_file = None\n",
        "    if save_raw:\n",
        "        raw_dir = pathlib.Path(\"data/raw/boe\"); raw_dir.mkdir(parents=True, exist_ok=True)\n",
        "        raw_file = raw_dir / f\"laborlaw_{datetime.now().strftime('%Y%m%d_%H%M%S')}.html\"\n",
        "        raw_file.write_text(html_text, encoding=\"utf-8\")\n",
        "\n",
        "    # 2) Parse the page\n",
        "    soup = BeautifulSoup(html_text, \"lxml\")\n",
        "    rows = []\n",
        "    current_section = None   # الباب\n",
        "    current_chapter = None   # الفصل\n",
        "\n",
        "    for tag in soup.select(\"#divLawText *\"):\n",
        "        text = tag.get_text(strip=True)\n",
        "\n",
        "        # Detect section and chapter\n",
        "        if tag.name == \"h3\" and text.startswith(\"الباب\"):\n",
        "            current_section = text\n",
        "            continue\n",
        "        if tag.name == \"h3\" and text.startswith(\"الفصل\"):\n",
        "            current_chapter = text\n",
        "            continue\n",
        "\n",
        "        # Extract article\n",
        "        if tag.name == \"div\" and \"article_item\" in (tag.get(\"class\") or []):\n",
        "            number_tag = tag.find(\"h3\", class_=\"center\")\n",
        "            article_number = number_tag.get_text(strip=True) if number_tag else None\n",
        "\n",
        "            text_tag = tag.find(\"div\", class_=\"HTMLContainer\")\n",
        "            article_text = text_tag.get_text(\" \", strip=True) if text_tag else None\n",
        "\n",
        "            # Article status\n",
        "            css_classes = tag.get(\"class\") or []\n",
        "            status = \"عادية\"\n",
        "            if \"changed-article\" in css_classes: status = \"معدلة\"\n",
        "            if \"canceled\" in css_classes: status = \"ملغاة\"\n",
        "\n",
        "            rows.append({\n",
        "                \"Section\": current_section,\n",
        "                \"Chapter\": current_chapter,\n",
        "                \"Article\": article_number,\n",
        "                \"Text\": article_text,\n",
        "                \"Status\": status,\n",
        "                \"Source\": url\n",
        "            })\n",
        "\n",
        "    # 3) Convert to DataFrame and Save\n",
        "    df = pd.DataFrame(rows)\n",
        "    out_dir = pathlib.Path(\"data/processed\"); out_dir.mkdir(parents=True, exist_ok=True)\n",
        "    csv_file = out_dir / \"boe_laborlaw_articles.csv\"\n",
        "    df.to_csv(csv_file, index=False, encoding=\"utf-8-sig\")\n",
        "\n",
        "    print(f\"✅ Extracted {len(df)} articles\")\n",
        "    print(f\"📄 CSV saved at: {csv_file}\")\n",
        "    if raw_file:\n",
        "        print(f\"🗂️ Raw HTML saved at: {raw_file}\")\n",
        "\n",
        "    return df\n"
      ],
      "metadata": {
        "id": "afwXwAHl2QM9"
      },
      "execution_count": null,
      "outputs": []
    },
    {
      "cell_type": "markdown",
      "source": [
        "BOE – Run and Preview"
      ],
      "metadata": {
        "id": "A03nXyhv2pRd"
      }
    },
    {
      "cell_type": "code",
      "source": [
        "# Run extraction\n",
        "df_boe = extract_boe_laborlaw(BOE_URL, save_raw=True)\n",
        "\n",
        "# Preview first 5 rows\n",
        "df_boe.head()\n"
      ],
      "metadata": {
        "colab": {
          "base_uri": "https://localhost:8080/",
          "height": 258
        },
        "id": "AzpCLIo32ryq",
        "outputId": "a9f413ca-dbab-4874-a494-6a8166eab5b2"
      },
      "execution_count": null,
      "outputs": [
        {
          "output_type": "stream",
          "name": "stdout",
          "text": [
            "✅ Extracted 248 articles\n",
            "📄 CSV saved at: data/processed/boe_laborlaw_articles.csv\n",
            "🗂️ Raw HTML saved at: data/raw/boe/laborlaw_20250925_185929.html\n"
          ]
        },
        {
          "output_type": "execute_result",
          "data": {
            "text/plain": [
              "                                  Section                  Chapter  \\\n",
              "0  الباب الأول: التعريفات والأحكام العامة                     None   \n",
              "1  الباب الأول: التعريفات والأحكام العامة  الفصل الأول : التعريفات   \n",
              "2  الباب الأول: التعريفات والأحكام العامة  الفصل الأول : التعريفات   \n",
              "3  الباب الأول: التعريفات والأحكام العامة  الفصل الأول : التعريفات   \n",
              "4  الباب الأول: التعريفات والأحكام العامة  الفصل الأول : التعريفات   \n",
              "\n",
              "                   Article                                               Text  \\\n",
              "0  الفصل الأول : التعريفات                        يسمى هذا النظام نظام العمل.   \n",
              "1           المادة الثانية  - تعديل تعريف العامل وذلك بموجب المرسوم الملكي...   \n",
              "2         المادة الثالثة :  عُدلت هذه المادة بموجب المرسوم الملكي رقم (م /...   \n",
              "3         المادة الرابعة :  يجب على   صاحب العمل    والعامل عند تطبيق أحكا...   \n",
              "4         المادة الخامسة :  تم تعديل هذه المادة بموجب المرسوم الملكي رقم (...   \n",
              "\n",
              "  Status                                             Source  \n",
              "0  عادية  https://laws.boe.gov.sa/BoeLaws/Laws/LawDetail...  \n",
              "1  معدلة  https://laws.boe.gov.sa/BoeLaws/Laws/LawDetail...  \n",
              "2  معدلة  https://laws.boe.gov.sa/BoeLaws/Laws/LawDetail...  \n",
              "3  عادية  https://laws.boe.gov.sa/BoeLaws/Laws/LawDetail...  \n",
              "4  معدلة  https://laws.boe.gov.sa/BoeLaws/Laws/LawDetail...  "
            ],
            "text/html": [
              "\n",
              "  <div id=\"df-3af651fc-5585-4def-af9c-4780e1fc0106\" class=\"colab-df-container\">\n",
              "    <div>\n",
              "<style scoped>\n",
              "    .dataframe tbody tr th:only-of-type {\n",
              "        vertical-align: middle;\n",
              "    }\n",
              "\n",
              "    .dataframe tbody tr th {\n",
              "        vertical-align: top;\n",
              "    }\n",
              "\n",
              "    .dataframe thead th {\n",
              "        text-align: right;\n",
              "    }\n",
              "</style>\n",
              "<table border=\"1\" class=\"dataframe\">\n",
              "  <thead>\n",
              "    <tr style=\"text-align: right;\">\n",
              "      <th></th>\n",
              "      <th>Section</th>\n",
              "      <th>Chapter</th>\n",
              "      <th>Article</th>\n",
              "      <th>Text</th>\n",
              "      <th>Status</th>\n",
              "      <th>Source</th>\n",
              "    </tr>\n",
              "  </thead>\n",
              "  <tbody>\n",
              "    <tr>\n",
              "      <th>0</th>\n",
              "      <td>الباب الأول: التعريفات والأحكام العامة</td>\n",
              "      <td>None</td>\n",
              "      <td>الفصل الأول : التعريفات</td>\n",
              "      <td>يسمى هذا النظام نظام العمل.</td>\n",
              "      <td>عادية</td>\n",
              "      <td>https://laws.boe.gov.sa/BoeLaws/Laws/LawDetail...</td>\n",
              "    </tr>\n",
              "    <tr>\n",
              "      <th>1</th>\n",
              "      <td>الباب الأول: التعريفات والأحكام العامة</td>\n",
              "      <td>الفصل الأول : التعريفات</td>\n",
              "      <td>المادة الثانية</td>\n",
              "      <td>- تعديل تعريف العامل وذلك بموجب المرسوم الملكي...</td>\n",
              "      <td>معدلة</td>\n",
              "      <td>https://laws.boe.gov.sa/BoeLaws/Laws/LawDetail...</td>\n",
              "    </tr>\n",
              "    <tr>\n",
              "      <th>2</th>\n",
              "      <td>الباب الأول: التعريفات والأحكام العامة</td>\n",
              "      <td>الفصل الأول : التعريفات</td>\n",
              "      <td>المادة الثالثة :</td>\n",
              "      <td>عُدلت هذه المادة بموجب المرسوم الملكي رقم (م /...</td>\n",
              "      <td>معدلة</td>\n",
              "      <td>https://laws.boe.gov.sa/BoeLaws/Laws/LawDetail...</td>\n",
              "    </tr>\n",
              "    <tr>\n",
              "      <th>3</th>\n",
              "      <td>الباب الأول: التعريفات والأحكام العامة</td>\n",
              "      <td>الفصل الأول : التعريفات</td>\n",
              "      <td>المادة الرابعة :</td>\n",
              "      <td>يجب على   صاحب العمل    والعامل عند تطبيق أحكا...</td>\n",
              "      <td>عادية</td>\n",
              "      <td>https://laws.boe.gov.sa/BoeLaws/Laws/LawDetail...</td>\n",
              "    </tr>\n",
              "    <tr>\n",
              "      <th>4</th>\n",
              "      <td>الباب الأول: التعريفات والأحكام العامة</td>\n",
              "      <td>الفصل الأول : التعريفات</td>\n",
              "      <td>المادة الخامسة :</td>\n",
              "      <td>تم تعديل هذه المادة بموجب المرسوم الملكي رقم (...</td>\n",
              "      <td>معدلة</td>\n",
              "      <td>https://laws.boe.gov.sa/BoeLaws/Laws/LawDetail...</td>\n",
              "    </tr>\n",
              "  </tbody>\n",
              "</table>\n",
              "</div>\n",
              "    <div class=\"colab-df-buttons\">\n",
              "\n",
              "  <div class=\"colab-df-container\">\n",
              "    <button class=\"colab-df-convert\" onclick=\"convertToInteractive('df-3af651fc-5585-4def-af9c-4780e1fc0106')\"\n",
              "            title=\"Convert this dataframe to an interactive table.\"\n",
              "            style=\"display:none;\">\n",
              "\n",
              "  <svg xmlns=\"http://www.w3.org/2000/svg\" height=\"24px\" viewBox=\"0 -960 960 960\">\n",
              "    <path d=\"M120-120v-720h720v720H120Zm60-500h600v-160H180v160Zm220 220h160v-160H400v160Zm0 220h160v-160H400v160ZM180-400h160v-160H180v160Zm440 0h160v-160H620v160ZM180-180h160v-160H180v160Zm440 0h160v-160H620v160Z\"/>\n",
              "  </svg>\n",
              "    </button>\n",
              "\n",
              "  <style>\n",
              "    .colab-df-container {\n",
              "      display:flex;\n",
              "      gap: 12px;\n",
              "    }\n",
              "\n",
              "    .colab-df-convert {\n",
              "      background-color: #E8F0FE;\n",
              "      border: none;\n",
              "      border-radius: 50%;\n",
              "      cursor: pointer;\n",
              "      display: none;\n",
              "      fill: #1967D2;\n",
              "      height: 32px;\n",
              "      padding: 0 0 0 0;\n",
              "      width: 32px;\n",
              "    }\n",
              "\n",
              "    .colab-df-convert:hover {\n",
              "      background-color: #E2EBFA;\n",
              "      box-shadow: 0px 1px 2px rgba(60, 64, 67, 0.3), 0px 1px 3px 1px rgba(60, 64, 67, 0.15);\n",
              "      fill: #174EA6;\n",
              "    }\n",
              "\n",
              "    .colab-df-buttons div {\n",
              "      margin-bottom: 4px;\n",
              "    }\n",
              "\n",
              "    [theme=dark] .colab-df-convert {\n",
              "      background-color: #3B4455;\n",
              "      fill: #D2E3FC;\n",
              "    }\n",
              "\n",
              "    [theme=dark] .colab-df-convert:hover {\n",
              "      background-color: #434B5C;\n",
              "      box-shadow: 0px 1px 3px 1px rgba(0, 0, 0, 0.15);\n",
              "      filter: drop-shadow(0px 1px 2px rgba(0, 0, 0, 0.3));\n",
              "      fill: #FFFFFF;\n",
              "    }\n",
              "  </style>\n",
              "\n",
              "    <script>\n",
              "      const buttonEl =\n",
              "        document.querySelector('#df-3af651fc-5585-4def-af9c-4780e1fc0106 button.colab-df-convert');\n",
              "      buttonEl.style.display =\n",
              "        google.colab.kernel.accessAllowed ? 'block' : 'none';\n",
              "\n",
              "      async function convertToInteractive(key) {\n",
              "        const element = document.querySelector('#df-3af651fc-5585-4def-af9c-4780e1fc0106');\n",
              "        const dataTable =\n",
              "          await google.colab.kernel.invokeFunction('convertToInteractive',\n",
              "                                                    [key], {});\n",
              "        if (!dataTable) return;\n",
              "\n",
              "        const docLinkHtml = 'Like what you see? Visit the ' +\n",
              "          '<a target=\"_blank\" href=https://colab.research.google.com/notebooks/data_table.ipynb>data table notebook</a>'\n",
              "          + ' to learn more about interactive tables.';\n",
              "        element.innerHTML = '';\n",
              "        dataTable['output_type'] = 'display_data';\n",
              "        await google.colab.output.renderOutput(dataTable, element);\n",
              "        const docLink = document.createElement('div');\n",
              "        docLink.innerHTML = docLinkHtml;\n",
              "        element.appendChild(docLink);\n",
              "      }\n",
              "    </script>\n",
              "  </div>\n",
              "\n",
              "\n",
              "    <div id=\"df-60f203f6-6f6f-4905-95ba-5b7587bf13ef\">\n",
              "      <button class=\"colab-df-quickchart\" onclick=\"quickchart('df-60f203f6-6f6f-4905-95ba-5b7587bf13ef')\"\n",
              "                title=\"Suggest charts\"\n",
              "                style=\"display:none;\">\n",
              "\n",
              "<svg xmlns=\"http://www.w3.org/2000/svg\" height=\"24px\"viewBox=\"0 0 24 24\"\n",
              "     width=\"24px\">\n",
              "    <g>\n",
              "        <path d=\"M19 3H5c-1.1 0-2 .9-2 2v14c0 1.1.9 2 2 2h14c1.1 0 2-.9 2-2V5c0-1.1-.9-2-2-2zM9 17H7v-7h2v7zm4 0h-2V7h2v10zm4 0h-2v-4h2v4z\"/>\n",
              "    </g>\n",
              "</svg>\n",
              "      </button>\n",
              "\n",
              "<style>\n",
              "  .colab-df-quickchart {\n",
              "      --bg-color: #E8F0FE;\n",
              "      --fill-color: #1967D2;\n",
              "      --hover-bg-color: #E2EBFA;\n",
              "      --hover-fill-color: #174EA6;\n",
              "      --disabled-fill-color: #AAA;\n",
              "      --disabled-bg-color: #DDD;\n",
              "  }\n",
              "\n",
              "  [theme=dark] .colab-df-quickchart {\n",
              "      --bg-color: #3B4455;\n",
              "      --fill-color: #D2E3FC;\n",
              "      --hover-bg-color: #434B5C;\n",
              "      --hover-fill-color: #FFFFFF;\n",
              "      --disabled-bg-color: #3B4455;\n",
              "      --disabled-fill-color: #666;\n",
              "  }\n",
              "\n",
              "  .colab-df-quickchart {\n",
              "    background-color: var(--bg-color);\n",
              "    border: none;\n",
              "    border-radius: 50%;\n",
              "    cursor: pointer;\n",
              "    display: none;\n",
              "    fill: var(--fill-color);\n",
              "    height: 32px;\n",
              "    padding: 0;\n",
              "    width: 32px;\n",
              "  }\n",
              "\n",
              "  .colab-df-quickchart:hover {\n",
              "    background-color: var(--hover-bg-color);\n",
              "    box-shadow: 0 1px 2px rgba(60, 64, 67, 0.3), 0 1px 3px 1px rgba(60, 64, 67, 0.15);\n",
              "    fill: var(--button-hover-fill-color);\n",
              "  }\n",
              "\n",
              "  .colab-df-quickchart-complete:disabled,\n",
              "  .colab-df-quickchart-complete:disabled:hover {\n",
              "    background-color: var(--disabled-bg-color);\n",
              "    fill: var(--disabled-fill-color);\n",
              "    box-shadow: none;\n",
              "  }\n",
              "\n",
              "  .colab-df-spinner {\n",
              "    border: 2px solid var(--fill-color);\n",
              "    border-color: transparent;\n",
              "    border-bottom-color: var(--fill-color);\n",
              "    animation:\n",
              "      spin 1s steps(1) infinite;\n",
              "  }\n",
              "\n",
              "  @keyframes spin {\n",
              "    0% {\n",
              "      border-color: transparent;\n",
              "      border-bottom-color: var(--fill-color);\n",
              "      border-left-color: var(--fill-color);\n",
              "    }\n",
              "    20% {\n",
              "      border-color: transparent;\n",
              "      border-left-color: var(--fill-color);\n",
              "      border-top-color: var(--fill-color);\n",
              "    }\n",
              "    30% {\n",
              "      border-color: transparent;\n",
              "      border-left-color: var(--fill-color);\n",
              "      border-top-color: var(--fill-color);\n",
              "      border-right-color: var(--fill-color);\n",
              "    }\n",
              "    40% {\n",
              "      border-color: transparent;\n",
              "      border-right-color: var(--fill-color);\n",
              "      border-top-color: var(--fill-color);\n",
              "    }\n",
              "    60% {\n",
              "      border-color: transparent;\n",
              "      border-right-color: var(--fill-color);\n",
              "    }\n",
              "    80% {\n",
              "      border-color: transparent;\n",
              "      border-right-color: var(--fill-color);\n",
              "      border-bottom-color: var(--fill-color);\n",
              "    }\n",
              "    90% {\n",
              "      border-color: transparent;\n",
              "      border-bottom-color: var(--fill-color);\n",
              "    }\n",
              "  }\n",
              "</style>\n",
              "\n",
              "      <script>\n",
              "        async function quickchart(key) {\n",
              "          const quickchartButtonEl =\n",
              "            document.querySelector('#' + key + ' button');\n",
              "          quickchartButtonEl.disabled = true;  // To prevent multiple clicks.\n",
              "          quickchartButtonEl.classList.add('colab-df-spinner');\n",
              "          try {\n",
              "            const charts = await google.colab.kernel.invokeFunction(\n",
              "                'suggestCharts', [key], {});\n",
              "          } catch (error) {\n",
              "            console.error('Error during call to suggestCharts:', error);\n",
              "          }\n",
              "          quickchartButtonEl.classList.remove('colab-df-spinner');\n",
              "          quickchartButtonEl.classList.add('colab-df-quickchart-complete');\n",
              "        }\n",
              "        (() => {\n",
              "          let quickchartButtonEl =\n",
              "            document.querySelector('#df-60f203f6-6f6f-4905-95ba-5b7587bf13ef button');\n",
              "          quickchartButtonEl.style.display =\n",
              "            google.colab.kernel.accessAllowed ? 'block' : 'none';\n",
              "        })();\n",
              "      </script>\n",
              "    </div>\n",
              "\n",
              "    </div>\n",
              "  </div>\n"
            ],
            "application/vnd.google.colaboratory.intrinsic+json": {
              "type": "dataframe",
              "variable_name": "df_boe",
              "summary": "{\n  \"name\": \"df_boe\",\n  \"rows\": 248,\n  \"fields\": [\n    {\n      \"column\": \"Section\",\n      \"properties\": {\n        \"dtype\": \"category\",\n        \"num_unique_values\": 16,\n        \"samples\": [\n          \"\\u0627\\u0644\\u0628\\u0627\\u0628 \\u0627\\u0644\\u0623\\u0648\\u0644: \\u0627\\u0644\\u062a\\u0639\\u0631\\u064a\\u0641\\u0627\\u062a \\u0648\\u0627\\u0644\\u0623\\u062d\\u0643\\u0627\\u0645 \\u0627\\u0644\\u0639\\u0627\\u0645\\u0629\",\n          \"\\u0627\\u0644\\u0628\\u0627\\u0628 \\u0627\\u0644\\u062b\\u0627\\u0646\\u064a: \\u062a\\u0646\\u0638\\u064a\\u0645 \\u0639\\u0645\\u0644\\u064a\\u0627\\u062a \\u0627\\u0644\\u062a\\u0648\\u0638\\u064a\\u0641\",\n          \"\\u0627\\u0644\\u0628\\u0627\\u0628 \\u0627\\u0644\\u0633\\u0627\\u062f\\u0633: \\u0634\\u0631\\u0648\\u0637 \\u0627\\u0644\\u0639\\u0645\\u0644 \\u0648\\u0638\\u0631\\u0648\\u0641\\u0647\"\n        ],\n        \"semantic_type\": \"\",\n        \"description\": \"\"\n      }\n    },\n    {\n      \"column\": \"Chapter\",\n      \"properties\": {\n        \"dtype\": \"category\",\n        \"num_unique_values\": 1,\n        \"samples\": [\n          \"\\u0627\\u0644\\u0641\\u0635\\u0644 \\u0627\\u0644\\u0623\\u0648\\u0644 : \\u0627\\u0644\\u062a\\u0639\\u0631\\u064a\\u0641\\u0627\\u062a\"\n        ],\n        \"semantic_type\": \"\",\n        \"description\": \"\"\n      }\n    },\n    {\n      \"column\": \"Article\",\n      \"properties\": {\n        \"dtype\": \"string\",\n        \"num_unique_values\": 248,\n        \"samples\": [\n          \"\\u0627\\u0644\\u0645\\u0627\\u062f\\u0629 \\u0627\\u0644\\u0631\\u0627\\u0628\\u0639\\u0629 \\u0648\\u0627\\u0644\\u062b\\u0644\\u0627\\u062b\\u0648\\u0646 :\"\n        ],\n        \"semantic_type\": \"\",\n        \"description\": \"\"\n      }\n    },\n    {\n      \"column\": \"Text\",\n      \"properties\": {\n        \"dtype\": \"string\",\n        \"num_unique_values\": 219,\n        \"samples\": [\n          \"\\u0639\\u0644\\u0649   \\u0635\\u0627\\u062d\\u0628 \\u0627\\u0644\\u0639\\u0645\\u0644    \\u0641\\u064a \\u062c\\u0645\\u064a\\u0639 \\u0627\\u0644\\u0623\\u0645\\u0627\\u0643\\u0646 \\u0627\\u0644\\u062a\\u064a \\u064a\\u0639\\u0645\\u0644 \\u0641\\u064a\\u0647\\u0627 \\u0646\\u0633\\u0627\\u0621 \\u0648\\u0641\\u064a \\u062c\\u0645\\u064a\\u0639 \\u0627\\u0644\\u0645\\u0647\\u0646 \\u0623\\u0646 \\u064a\\u0648\\u0641\\u0631 \\u0644\\u0647\\u0646 \\u0645\\u0642\\u0627\\u0639\\u062f \\u062a\\u0623\\u0645\\u064a\\u0646\\u064b\\u0627 \\u0644\\u0627\\u0633\\u062a\\u0631\\u0627\\u062d\\u062a\\u0647\\u0646.\"\n        ],\n        \"semantic_type\": \"\",\n        \"description\": \"\"\n      }\n    },\n    {\n      \"column\": \"Status\",\n      \"properties\": {\n        \"dtype\": \"category\",\n        \"num_unique_values\": 2,\n        \"samples\": [\n          \"\\u0645\\u0639\\u062f\\u0644\\u0629\"\n        ],\n        \"semantic_type\": \"\",\n        \"description\": \"\"\n      }\n    },\n    {\n      \"column\": \"Source\",\n      \"properties\": {\n        \"dtype\": \"category\",\n        \"num_unique_values\": 1,\n        \"samples\": [\n          \"https://laws.boe.gov.sa/BoeLaws/Laws/LawDetails/08381293-6388-48e2-8ad2-a9a700f2aa94/1\"\n        ],\n        \"semantic_type\": \"\",\n        \"description\": \"\"\n      }\n    }\n  ]\n}"
            }
          },
          "metadata": {},
          "execution_count": 23
        }
      ]
    },
    {
      "cell_type": "markdown",
      "source": [
        "BOE – Download File(colab)"
      ],
      "metadata": {
        "id": "-qvw4EqE2yO4"
      }
    },
    {
      "cell_type": "code",
      "source": [
        "from google.colab import files\n",
        "files.download(\"/content/data/processed/boe_laborlaw_articles.csv\")\n"
      ],
      "metadata": {
        "colab": {
          "base_uri": "https://localhost:8080/",
          "height": 17
        },
        "id": "Z5u2WPfK2y1m",
        "outputId": "8fa6e95f-14f6-48dd-97c7-891aa7001549"
      },
      "execution_count": null,
      "outputs": [
        {
          "output_type": "display_data",
          "data": {
            "text/plain": [
              "<IPython.core.display.Javascript object>"
            ],
            "application/javascript": [
              "\n",
              "    async function download(id, filename, size) {\n",
              "      if (!google.colab.kernel.accessAllowed) {\n",
              "        return;\n",
              "      }\n",
              "      const div = document.createElement('div');\n",
              "      const label = document.createElement('label');\n",
              "      label.textContent = `Downloading \"${filename}\": `;\n",
              "      div.appendChild(label);\n",
              "      const progress = document.createElement('progress');\n",
              "      progress.max = size;\n",
              "      div.appendChild(progress);\n",
              "      document.body.appendChild(div);\n",
              "\n",
              "      const buffers = [];\n",
              "      let downloaded = 0;\n",
              "\n",
              "      const channel = await google.colab.kernel.comms.open(id);\n",
              "      // Send a message to notify the kernel that we're ready.\n",
              "      channel.send({})\n",
              "\n",
              "      for await (const message of channel.messages) {\n",
              "        // Send a message to notify the kernel that we're ready.\n",
              "        channel.send({})\n",
              "        if (message.buffers) {\n",
              "          for (const buffer of message.buffers) {\n",
              "            buffers.push(buffer);\n",
              "            downloaded += buffer.byteLength;\n",
              "            progress.value = downloaded;\n",
              "          }\n",
              "        }\n",
              "      }\n",
              "      const blob = new Blob(buffers, {type: 'application/binary'});\n",
              "      const a = document.createElement('a');\n",
              "      a.href = window.URL.createObjectURL(blob);\n",
              "      a.download = filename;\n",
              "      div.appendChild(a);\n",
              "      a.click();\n",
              "      div.remove();\n",
              "    }\n",
              "  "
            ]
          },
          "metadata": {}
        },
        {
          "output_type": "display_data",
          "data": {
            "text/plain": [
              "<IPython.core.display.Javascript object>"
            ],
            "application/javascript": [
              "download(\"download_7f61dfe3-6e9f-410a-b210-65bc8df1ff82\", \"boe_laborlaw_articles.csv\", 259728)"
            ]
          },
          "metadata": {}
        }
      ]
    },
    {
      "cell_type": "code",
      "source": [],
      "metadata": {
        "id": "5Ya3SK0goSLd"
      },
      "execution_count": null,
      "outputs": []
    },
    {
      "cell_type": "markdown",
      "source": [
        "# **istitlaa**\n",
        "\n",
        "\n",
        "url:https://istitlaa.ncc.gov.sa/ar/Labor/Hrsd/Regulations5/Pages/default.aspx"
      ],
      "metadata": {
        "id": "dqjfTZJV3Vl-"
      }
    },
    {
      "cell_type": "markdown",
      "source": [
        "Istitlaa – URL and Output Files"
      ],
      "metadata": {
        "id": "RwI9FJIo3ib2"
      }
    },
    {
      "cell_type": "code",
      "source": [
        "BASE = \"https://istitlaa.ncc.gov.sa/ar/Labor/Hrsd/Regulations5/Pages/default.aspx\"\n",
        "OUT_XLSX = \"istitlaa_laborlaw.xlsx\"\n",
        "OUT_CSV  = \"istitlaa_laborlaw.csv\"\n",
        "\n",
        "headers = {\"User-Agent\": \"Mozilla/5.0\"}\n"
      ],
      "metadata": {
        "id": "TdP8cUp-3epH"
      },
      "execution_count": null,
      "outputs": []
    },
    {
      "cell_type": "markdown",
      "source": [
        "Istitlaa – Utility Function"
      ],
      "metadata": {
        "id": "AF30rE6D3nLh"
      }
    },
    {
      "cell_type": "code",
      "source": [
        "import re\n",
        "\n",
        "def clean(txt):\n",
        "    return re.sub(r\"\\s+\", \" \", txt).strip() if txt else None\n"
      ],
      "metadata": {
        "id": "QVcShLQE3njK"
      },
      "execution_count": null,
      "outputs": []
    },
    {
      "cell_type": "markdown",
      "source": [
        "Istitlaa – Get Index Page"
      ],
      "metadata": {
        "id": "gBEOOJIm3yhY"
      }
    },
    {
      "cell_type": "code",
      "source": [
        "# 1) Request index page\n",
        "from urllib.parse import urljoin # Import urljoin\n",
        "\n",
        "idx = requests.get(BASE, headers=headers, timeout=60)\n",
        "idx.raise_for_status()\n",
        "soup = BeautifulSoup(idx.text, \"lxml\")\n",
        "\n",
        "# 2) Extract article links\n",
        "blocks = soup.select(\"div.comment-block.comment-page.pageItem.page-item-container\")\n",
        "print(\"Number of blocks:\", len(blocks))\n",
        "\n",
        "items = []\n",
        "for b in blocks:\n",
        "    h5 = b.find(\"h5\")\n",
        "    article_title = clean(h5.get_text()) if h5 else None\n",
        "\n",
        "    dp = b.select_one(\"[data-pageurl]\")\n",
        "    page_url = dp.get(\"data-pageurl\") if dp else None\n",
        "    if page_url:\n",
        "        page_url = urljoin(BASE, page_url)\n",
        "\n",
        "    if page_url:\n",
        "        items.append({\"article\": article_title, \"url\": page_url})\n",
        "\n",
        "print(\"Number of article links:\", len(items))"
      ],
      "metadata": {
        "colab": {
          "base_uri": "https://localhost:8080/"
        },
        "id": "3tmpXfd13zI7",
        "outputId": "06318719-4594-4983-c87b-238d736fdf09"
      },
      "execution_count": null,
      "outputs": [
        {
          "output_type": "stream",
          "name": "stdout",
          "text": [
            "Number of blocks: 16\n",
            "Number of article links: 16\n"
          ]
        }
      ]
    },
    {
      "cell_type": "markdown",
      "source": [
        "Istitlaa – Visit Each Article and Extract Table"
      ],
      "metadata": {
        "id": "fLDBZD2G33eQ"
      }
    },
    {
      "cell_type": "code",
      "source": [
        "rows = []\n",
        "for it in items:\n",
        "    try:\n",
        "        r = requests.get(it[\"url\"], headers=headers, timeout=60)\n",
        "        r.raise_for_status()\n",
        "        psoup = BeautifulSoup(r.text, \"lxml\")\n",
        "\n",
        "        # Target table\n",
        "        table = psoup.select_one(\"table.ms-rteTable-default\")\n",
        "        current_text = proposed_text = None\n",
        "\n",
        "        if table:\n",
        "            trs = table.find_all(\"tr\")\n",
        "            if len(trs) >= 2:\n",
        "                # collect body rows\n",
        "                body_rows = []\n",
        "                for tr in trs[1:]:\n",
        "                    tds = tr.find_all(\"td\")\n",
        "                    if tds:\n",
        "                        body_rows.append([clean(td.get_text(\" \", strip=True)) for td in tds])\n",
        "\n",
        "                if body_rows:\n",
        "                    # transpose rows to columns\n",
        "                    cols = list(zip(*body_rows))\n",
        "                    col_texts = [\" \".join([c for c in col if c]).strip() for col in cols]\n",
        "                    if len(col_texts) >= 1: current_text  = col_texts[0]\n",
        "                    if len(col_texts) >= 2: proposed_text = col_texts[1]\n",
        "\n",
        "        if any([it[\"article\"], current_text, proposed_text]):\n",
        "            rows.append({\n",
        "                \"Article\": it[\"article\"],\n",
        "                \"Current Text\": current_text,\n",
        "                \"Proposed Text\": proposed_text,\n",
        "                \"URL\": it[\"url\"],\n",
        "            })\n",
        "    except Exception as e:\n",
        "        print(\"⚠️ Failed at:\", it[\"url\"], e)\n"
      ],
      "metadata": {
        "id": "hpuPMOws35H8"
      },
      "execution_count": null,
      "outputs": []
    },
    {
      "cell_type": "markdown",
      "source": [
        "Istitlaa – DataFrame and Preview"
      ],
      "metadata": {
        "id": "fcA8wTk-372_"
      }
    },
    {
      "cell_type": "code",
      "source": [
        "df = pd.DataFrame(rows)\n",
        "print(\" Extracted articles:\", len(df))\n",
        "df.head(10)\n"
      ],
      "metadata": {
        "colab": {
          "base_uri": "https://localhost:8080/",
          "height": 380
        },
        "id": "ku_NrSlk3-hd",
        "outputId": "1a784657-63b9-482c-ce56-ea8bf1cac013"
      },
      "execution_count": null,
      "outputs": [
        {
          "output_type": "stream",
          "name": "stdout",
          "text": [
            " Extracted articles: 16\n"
          ]
        },
        {
          "output_type": "execute_result",
          "data": {
            "text/plain": [
              "            Article                                       Current Text  \\\n",
              "0          المادة 2  المادة (2) في تنفيذ أحكام الفقرة الفرعية (د) م...   \n",
              "1          المادة 7  المادة (7) في تنفيذ أحكام المواد (الثانية والع...   \n",
              "2         المادة 10  المادة (10) في تنفيذ أحكام (المادة الثلاثون) م...   \n",
              "3         المادة 13  المادة (13) في تنفيذ أحكام (المادة التاسعة وال...   \n",
              "4         المادة 15  المادة (15) في تنفيذ أحكام (المادة الثانية وال...   \n",
              "5     المادة 15مكرر                                            لا يوجد   \n",
              "6         المادة 16  المادة (16) في تنفيذ أحكام (المادة الرابعة وال...   \n",
              "7  المادة 16 مكرر 1                                            لا يوجد   \n",
              "8  المادة 16 مكرر 2                                            لا يوجد   \n",
              "9         المادة 18  المادة (18) في تنفيذ أحكام الفقرة (1) من (الما...   \n",
              "\n",
              "                                       Proposed Text  \\\n",
              "0                                       حذف المادة ​   \n",
              "1  المادة (7) في تنفيذ أحكام المواد (الثانية والع...   \n",
              "2  المادة (10) في تنفيذ أحكام (المادة الثلاثون) م...   \n",
              "3  المادة (13) في تنفيذ أحكام (المادة التاسعة وال...   \n",
              "4  المادة (15) في تنفيذ أحكام (المادة الثانية وال...   \n",
              "5  المادة (15) مكرر في تنفيذ أحكام (المادة الثالث...   \n",
              "6  المادة (16) في تنفيذ أحكام (المادة الرابعة وال...   \n",
              "7  المادة (16) مكرر (1) في تنفيذ أحكام (المادة ال...   \n",
              "8  المادة (16) مكرر (2) في تنفيذ أحكام (المادة ال...   \n",
              "9  المادة (18) في تنفيذ أحكام المادتين (الحادية و...   \n",
              "\n",
              "                                                 URL  \n",
              "0  https://istitlaa.ncc.gov.sa/ar/Labor/Hrsd/Regu...  \n",
              "1  https://istitlaa.ncc.gov.sa/ar/Labor/Hrsd/Regu...  \n",
              "2  https://istitlaa.ncc.gov.sa/ar/Labor/Hrsd/Regu...  \n",
              "3  https://istitlaa.ncc.gov.sa/ar/Labor/Hrsd/Regu...  \n",
              "4  https://istitlaa.ncc.gov.sa/ar/Labor/Hrsd/Regu...  \n",
              "5  https://istitlaa.ncc.gov.sa/ar/Labor/Hrsd/Regu...  \n",
              "6  https://istitlaa.ncc.gov.sa/ar/Labor/Hrsd/Regu...  \n",
              "7  https://istitlaa.ncc.gov.sa/ar/Labor/Hrsd/Regu...  \n",
              "8  https://istitlaa.ncc.gov.sa/ar/Labor/Hrsd/Regu...  \n",
              "9  https://istitlaa.ncc.gov.sa/ar/Labor/Hrsd/Regu...  "
            ],
            "text/html": [
              "\n",
              "  <div id=\"df-37ae9e68-505f-4da7-b276-3ba024745c32\" class=\"colab-df-container\">\n",
              "    <div>\n",
              "<style scoped>\n",
              "    .dataframe tbody tr th:only-of-type {\n",
              "        vertical-align: middle;\n",
              "    }\n",
              "\n",
              "    .dataframe tbody tr th {\n",
              "        vertical-align: top;\n",
              "    }\n",
              "\n",
              "    .dataframe thead th {\n",
              "        text-align: right;\n",
              "    }\n",
              "</style>\n",
              "<table border=\"1\" class=\"dataframe\">\n",
              "  <thead>\n",
              "    <tr style=\"text-align: right;\">\n",
              "      <th></th>\n",
              "      <th>Article</th>\n",
              "      <th>Current Text</th>\n",
              "      <th>Proposed Text</th>\n",
              "      <th>URL</th>\n",
              "    </tr>\n",
              "  </thead>\n",
              "  <tbody>\n",
              "    <tr>\n",
              "      <th>0</th>\n",
              "      <td>المادة 2</td>\n",
              "      <td>المادة (2) في تنفيذ أحكام الفقرة الفرعية (د) م...</td>\n",
              "      <td>حذف المادة ​</td>\n",
              "      <td>https://istitlaa.ncc.gov.sa/ar/Labor/Hrsd/Regu...</td>\n",
              "    </tr>\n",
              "    <tr>\n",
              "      <th>1</th>\n",
              "      <td>المادة 7</td>\n",
              "      <td>المادة (7) في تنفيذ أحكام المواد (الثانية والع...</td>\n",
              "      <td>المادة (7) في تنفيذ أحكام المواد (الثانية والع...</td>\n",
              "      <td>https://istitlaa.ncc.gov.sa/ar/Labor/Hrsd/Regu...</td>\n",
              "    </tr>\n",
              "    <tr>\n",
              "      <th>2</th>\n",
              "      <td>المادة 10</td>\n",
              "      <td>المادة (10) في تنفيذ أحكام (المادة الثلاثون) م...</td>\n",
              "      <td>المادة (10) في تنفيذ أحكام (المادة الثلاثون) م...</td>\n",
              "      <td>https://istitlaa.ncc.gov.sa/ar/Labor/Hrsd/Regu...</td>\n",
              "    </tr>\n",
              "    <tr>\n",
              "      <th>3</th>\n",
              "      <td>المادة 13</td>\n",
              "      <td>المادة (13) في تنفيذ أحكام (المادة التاسعة وال...</td>\n",
              "      <td>المادة (13) في تنفيذ أحكام (المادة التاسعة وال...</td>\n",
              "      <td>https://istitlaa.ncc.gov.sa/ar/Labor/Hrsd/Regu...</td>\n",
              "    </tr>\n",
              "    <tr>\n",
              "      <th>4</th>\n",
              "      <td>المادة 15</td>\n",
              "      <td>المادة (15) في تنفيذ أحكام (المادة الثانية وال...</td>\n",
              "      <td>المادة (15) في تنفيذ أحكام (المادة الثانية وال...</td>\n",
              "      <td>https://istitlaa.ncc.gov.sa/ar/Labor/Hrsd/Regu...</td>\n",
              "    </tr>\n",
              "    <tr>\n",
              "      <th>5</th>\n",
              "      <td>المادة 15مكرر</td>\n",
              "      <td>لا يوجد</td>\n",
              "      <td>المادة (15) مكرر في تنفيذ أحكام (المادة الثالث...</td>\n",
              "      <td>https://istitlaa.ncc.gov.sa/ar/Labor/Hrsd/Regu...</td>\n",
              "    </tr>\n",
              "    <tr>\n",
              "      <th>6</th>\n",
              "      <td>المادة 16</td>\n",
              "      <td>المادة (16) في تنفيذ أحكام (المادة الرابعة وال...</td>\n",
              "      <td>المادة (16) في تنفيذ أحكام (المادة الرابعة وال...</td>\n",
              "      <td>https://istitlaa.ncc.gov.sa/ar/Labor/Hrsd/Regu...</td>\n",
              "    </tr>\n",
              "    <tr>\n",
              "      <th>7</th>\n",
              "      <td>المادة 16 مكرر 1</td>\n",
              "      <td>لا يوجد</td>\n",
              "      <td>المادة (16) مكرر (1) في تنفيذ أحكام (المادة ال...</td>\n",
              "      <td>https://istitlaa.ncc.gov.sa/ar/Labor/Hrsd/Regu...</td>\n",
              "    </tr>\n",
              "    <tr>\n",
              "      <th>8</th>\n",
              "      <td>المادة 16 مكرر 2</td>\n",
              "      <td>لا يوجد</td>\n",
              "      <td>المادة (16) مكرر (2) في تنفيذ أحكام (المادة ال...</td>\n",
              "      <td>https://istitlaa.ncc.gov.sa/ar/Labor/Hrsd/Regu...</td>\n",
              "    </tr>\n",
              "    <tr>\n",
              "      <th>9</th>\n",
              "      <td>المادة 18</td>\n",
              "      <td>المادة (18) في تنفيذ أحكام الفقرة (1) من (الما...</td>\n",
              "      <td>المادة (18) في تنفيذ أحكام المادتين (الحادية و...</td>\n",
              "      <td>https://istitlaa.ncc.gov.sa/ar/Labor/Hrsd/Regu...</td>\n",
              "    </tr>\n",
              "  </tbody>\n",
              "</table>\n",
              "</div>\n",
              "    <div class=\"colab-df-buttons\">\n",
              "\n",
              "  <div class=\"colab-df-container\">\n",
              "    <button class=\"colab-df-convert\" onclick=\"convertToInteractive('df-37ae9e68-505f-4da7-b276-3ba024745c32')\"\n",
              "            title=\"Convert this dataframe to an interactive table.\"\n",
              "            style=\"display:none;\">\n",
              "\n",
              "  <svg xmlns=\"http://www.w3.org/2000/svg\" height=\"24px\" viewBox=\"0 -960 960 960\">\n",
              "    <path d=\"M120-120v-720h720v720H120Zm60-500h600v-160H180v160Zm220 220h160v-160H400v160Zm0 220h160v-160H400v160ZM180-400h160v-160H180v160Zm440 0h160v-160H620v160ZM180-180h160v-160H180v160Zm440 0h160v-160H620v160Z\"/>\n",
              "  </svg>\n",
              "    </button>\n",
              "\n",
              "  <style>\n",
              "    .colab-df-container {\n",
              "      display:flex;\n",
              "      gap: 12px;\n",
              "    }\n",
              "\n",
              "    .colab-df-convert {\n",
              "      background-color: #E8F0FE;\n",
              "      border: none;\n",
              "      border-radius: 50%;\n",
              "      cursor: pointer;\n",
              "      display: none;\n",
              "      fill: #1967D2;\n",
              "      height: 32px;\n",
              "      padding: 0 0 0 0;\n",
              "      width: 32px;\n",
              "    }\n",
              "\n",
              "    .colab-df-convert:hover {\n",
              "      background-color: #E2EBFA;\n",
              "      box-shadow: 0px 1px 2px rgba(60, 64, 67, 0.3), 0px 1px 3px 1px rgba(60, 64, 67, 0.15);\n",
              "      fill: #174EA6;\n",
              "    }\n",
              "\n",
              "    .colab-df-buttons div {\n",
              "      margin-bottom: 4px;\n",
              "    }\n",
              "\n",
              "    [theme=dark] .colab-df-convert {\n",
              "      background-color: #3B4455;\n",
              "      fill: #D2E3FC;\n",
              "    }\n",
              "\n",
              "    [theme=dark] .colab-df-convert:hover {\n",
              "      background-color: #434B5C;\n",
              "      box-shadow: 0px 1px 3px 1px rgba(0, 0, 0, 0.15);\n",
              "      filter: drop-shadow(0px 1px 2px rgba(0, 0, 0, 0.3));\n",
              "      fill: #FFFFFF;\n",
              "    }\n",
              "  </style>\n",
              "\n",
              "    <script>\n",
              "      const buttonEl =\n",
              "        document.querySelector('#df-37ae9e68-505f-4da7-b276-3ba024745c32 button.colab-df-convert');\n",
              "      buttonEl.style.display =\n",
              "        google.colab.kernel.accessAllowed ? 'block' : 'none';\n",
              "\n",
              "      async function convertToInteractive(key) {\n",
              "        const element = document.querySelector('#df-37ae9e68-505f-4da7-b276-3ba024745c32');\n",
              "        const dataTable =\n",
              "          await google.colab.kernel.invokeFunction('convertToInteractive',\n",
              "                                                    [key], {});\n",
              "        if (!dataTable) return;\n",
              "\n",
              "        const docLinkHtml = 'Like what you see? Visit the ' +\n",
              "          '<a target=\"_blank\" href=https://colab.research.google.com/notebooks/data_table.ipynb>data table notebook</a>'\n",
              "          + ' to learn more about interactive tables.';\n",
              "        element.innerHTML = '';\n",
              "        dataTable['output_type'] = 'display_data';\n",
              "        await google.colab.output.renderOutput(dataTable, element);\n",
              "        const docLink = document.createElement('div');\n",
              "        docLink.innerHTML = docLinkHtml;\n",
              "        element.appendChild(docLink);\n",
              "      }\n",
              "    </script>\n",
              "  </div>\n",
              "\n",
              "\n",
              "    <div id=\"df-08780cda-0bba-4369-b63f-9975c818f626\">\n",
              "      <button class=\"colab-df-quickchart\" onclick=\"quickchart('df-08780cda-0bba-4369-b63f-9975c818f626')\"\n",
              "                title=\"Suggest charts\"\n",
              "                style=\"display:none;\">\n",
              "\n",
              "<svg xmlns=\"http://www.w3.org/2000/svg\" height=\"24px\"viewBox=\"0 0 24 24\"\n",
              "     width=\"24px\">\n",
              "    <g>\n",
              "        <path d=\"M19 3H5c-1.1 0-2 .9-2 2v14c0 1.1.9 2 2 2h14c1.1 0 2-.9 2-2V5c0-1.1-.9-2-2-2zM9 17H7v-7h2v7zm4 0h-2V7h2v10zm4 0h-2v-4h2v4z\"/>\n",
              "    </g>\n",
              "</svg>\n",
              "      </button>\n",
              "\n",
              "<style>\n",
              "  .colab-df-quickchart {\n",
              "      --bg-color: #E8F0FE;\n",
              "      --fill-color: #1967D2;\n",
              "      --hover-bg-color: #E2EBFA;\n",
              "      --hover-fill-color: #174EA6;\n",
              "      --disabled-fill-color: #AAA;\n",
              "      --disabled-bg-color: #DDD;\n",
              "  }\n",
              "\n",
              "  [theme=dark] .colab-df-quickchart {\n",
              "      --bg-color: #3B4455;\n",
              "      --fill-color: #D2E3FC;\n",
              "      --hover-bg-color: #434B5C;\n",
              "      --hover-fill-color: #FFFFFF;\n",
              "      --disabled-bg-color: #3B4455;\n",
              "      --disabled-fill-color: #666;\n",
              "  }\n",
              "\n",
              "  .colab-df-quickchart {\n",
              "    background-color: var(--bg-color);\n",
              "    border: none;\n",
              "    border-radius: 50%;\n",
              "    cursor: pointer;\n",
              "    display: none;\n",
              "    fill: var(--fill-color);\n",
              "    height: 32px;\n",
              "    padding: 0;\n",
              "    width: 32px;\n",
              "  }\n",
              "\n",
              "  .colab-df-quickchart:hover {\n",
              "    background-color: var(--hover-bg-color);\n",
              "    box-shadow: 0 1px 2px rgba(60, 64, 67, 0.3), 0 1px 3px 1px rgba(60, 64, 67, 0.15);\n",
              "    fill: var(--button-hover-fill-color);\n",
              "  }\n",
              "\n",
              "  .colab-df-quickchart-complete:disabled,\n",
              "  .colab-df-quickchart-complete:disabled:hover {\n",
              "    background-color: var(--disabled-bg-color);\n",
              "    fill: var(--disabled-fill-color);\n",
              "    box-shadow: none;\n",
              "  }\n",
              "\n",
              "  .colab-df-spinner {\n",
              "    border: 2px solid var(--fill-color);\n",
              "    border-color: transparent;\n",
              "    border-bottom-color: var(--fill-color);\n",
              "    animation:\n",
              "      spin 1s steps(1) infinite;\n",
              "  }\n",
              "\n",
              "  @keyframes spin {\n",
              "    0% {\n",
              "      border-color: transparent;\n",
              "      border-bottom-color: var(--fill-color);\n",
              "      border-left-color: var(--fill-color);\n",
              "    }\n",
              "    20% {\n",
              "      border-color: transparent;\n",
              "      border-left-color: var(--fill-color);\n",
              "      border-top-color: var(--fill-color);\n",
              "    }\n",
              "    30% {\n",
              "      border-color: transparent;\n",
              "      border-left-color: var(--fill-color);\n",
              "      border-top-color: var(--fill-color);\n",
              "      border-right-color: var(--fill-color);\n",
              "    }\n",
              "    40% {\n",
              "      border-color: transparent;\n",
              "      border-right-color: var(--fill-color);\n",
              "      border-top-color: var(--fill-color);\n",
              "    }\n",
              "    60% {\n",
              "      border-color: transparent;\n",
              "      border-right-color: var(--fill-color);\n",
              "    }\n",
              "    80% {\n",
              "      border-color: transparent;\n",
              "      border-right-color: var(--fill-color);\n",
              "      border-bottom-color: var(--fill-color);\n",
              "    }\n",
              "    90% {\n",
              "      border-color: transparent;\n",
              "      border-bottom-color: var(--fill-color);\n",
              "    }\n",
              "  }\n",
              "</style>\n",
              "\n",
              "      <script>\n",
              "        async function quickchart(key) {\n",
              "          const quickchartButtonEl =\n",
              "            document.querySelector('#' + key + ' button');\n",
              "          quickchartButtonEl.disabled = true;  // To prevent multiple clicks.\n",
              "          quickchartButtonEl.classList.add('colab-df-spinner');\n",
              "          try {\n",
              "            const charts = await google.colab.kernel.invokeFunction(\n",
              "                'suggestCharts', [key], {});\n",
              "          } catch (error) {\n",
              "            console.error('Error during call to suggestCharts:', error);\n",
              "          }\n",
              "          quickchartButtonEl.classList.remove('colab-df-spinner');\n",
              "          quickchartButtonEl.classList.add('colab-df-quickchart-complete');\n",
              "        }\n",
              "        (() => {\n",
              "          let quickchartButtonEl =\n",
              "            document.querySelector('#df-08780cda-0bba-4369-b63f-9975c818f626 button');\n",
              "          quickchartButtonEl.style.display =\n",
              "            google.colab.kernel.accessAllowed ? 'block' : 'none';\n",
              "        })();\n",
              "      </script>\n",
              "    </div>\n",
              "\n",
              "    </div>\n",
              "  </div>\n"
            ],
            "application/vnd.google.colaboratory.intrinsic+json": {
              "type": "dataframe",
              "variable_name": "df",
              "summary": "{\n  \"name\": \"df\",\n  \"rows\": 16,\n  \"fields\": [\n    {\n      \"column\": \"Article\",\n      \"properties\": {\n        \"dtype\": \"string\",\n        \"num_unique_values\": 16,\n        \"samples\": [\n          \"\\u0627\\u0644\\u0645\\u0627\\u062f\\u0629 2\",\n          \"\\u0627\\u0644\\u0645\\u0627\\u062f\\u0629 7\",\n          \"\\u0627\\u0644\\u0645\\u0627\\u062f\\u0629 15\\u0645\\u0643\\u0631\\u0631\"\n        ],\n        \"semantic_type\": \"\",\n        \"description\": \"\"\n      }\n    },\n    {\n      \"column\": \"Current Text\",\n      \"properties\": {\n        \"dtype\": \"string\",\n        \"num_unique_values\": 13,\n        \"samples\": [\n          \"\\u0627\\u0644\\u0645\\u0627\\u062f\\u0629 (37) \\u0641\\u064a \\u062a\\u0646\\u0641\\u064a\\u0630 \\u0623\\u062d\\u0643\\u0627\\u0645 (\\u0627\\u0644\\u0645\\u0627\\u062f\\u0629 \\u0627\\u0644\\u0633\\u0627\\u0628\\u0639\\u0629 \\u0648\\u0627\\u0644\\u062a\\u0633\\u0639\\u0648\\u0646 \\u0628\\u0639\\u062f \\u0627\\u0644\\u0645\\u0627\\u0626\\u0629) \\u0645\\u0646 \\u0627\\u0644\\u0646\\u0638\\u0627\\u0645 \\u062a\\u0643\\u0648\\u0646 \\u0635\\u064a\\u063a\\u0629 \\u062a\\u0639\\u0647\\u062f \\u0645\\u0641\\u062a\\u0634\\u064a \\u0627\\u0644\\u0639\\u0645\\u0644 \\u0642\\u0628\\u0644 \\u0645\\u0628\\u0627\\u0634\\u0631\\u0629 \\u0639\\u0645\\u0644\\u0647\\u0645\\u060c \\u0643\\u0645\\u0627 \\u064a\\u0644\\u064a: \\u0623\\u062a\\u0639\\u0647\\u062f \\u0623\\u0646\\u0627 \\u0627\\u0644\\u0645\\u0641\\u062a\\u0634 / ..............................\\u060c \\u0631\\u0642\\u0645 \\u0648\\u0638\\u064a\\u0641\\u064a (........................) \\u0633\\u062c\\u0644 \\u0645\\u062f\\u0646\\u064a \\u0631\\u0642\\u0645 (........................)\\u060c \\u0628\\u0623\\u0646\\u0646\\u064a \\u0645\\u0633\\u0626\\u0648\\u0644\\u064b\\u0627 \\u0623\\u0645\\u0627\\u0645 \\u0627\\u0644\\u0644\\u0647 \\u0639\\u0632 \\u0648\\u062c\\u0644\\u060c \\u062b\\u0645 \\u0623\\u0645\\u0627\\u0645 \\u0631\\u0624\\u0633\\u0627\\u0626\\u064a\\u061b \\u0628\\u0623\\u0646 \\u0623\\u0624\\u062f\\u064a \\u0639\\u0645\\u0644\\u064a \\u0628\\u0643\\u0644 \\u0623\\u0645\\u0627\\u0646\\u0629\\u060c \\u0648\\u0625\\u062e\\u0644\\u0627\\u0635\\u060c \\u0648\\u0623\\u0644\\u0627 \\u0623\\u0641\\u0634\\u064a \\u0623\\u064a \\u0633\\u0631\\u060c \\u0623\\u0648 \\u0623\\u064a \\u0627\\u062e\\u062a\\u0631\\u0627\\u0639 \\u0635\\u0646\\u0627\\u0639\\u064a\\u060c \\u0623\\u0648 \\u063a\\u064a\\u0631 \\u0630\\u0644\\u0643 \\u0645\\u0646 \\u0627\\u0644\\u0623\\u0633\\u0631\\u0627\\u0631 \\u0627\\u0644\\u062a\\u064a \\u0623\\u0637\\u0644\\u0639 \\u0639\\u0644\\u064a\\u0647\\u0627 \\u0628\\u062d\\u0643\\u0645 \\u0639\\u0645\\u0644\\u064a\\u060c \\u0648\\u0644\\u0648 \\u0628\\u0639\\u062f \\u0627\\u0646\\u0642\\u0637\\u0627\\u0639 \\u0639\\u0645\\u0644\\u064a \\u0628\\u0647\\u0630\\u0647 \\u0627\\u0644\\u0648\\u0638\\u064a\\u0641\\u0629\\u061b \\u0648\\u0641\\u064a \\u062d\\u0627\\u0644\\u0629 \\u0645\\u062e\\u0627\\u0644\\u0641\\u062a\\u064a \\u0644\\u0630\\u0644\\u0643\\u060c \\u0623\\u0643\\u0648\\u0646 \\u062e\\u0627\\u0626\\u0646\\u064b\\u0627 \\u0644\\u0644\\u0623\\u0645\\u0627\\u0646\\u0629\\u060c \\u0648\\u0623\\u062a\\u062d\\u0645\\u0644 \\u0627\\u0644\\u0645\\u0633\\u0626\\u0648\\u0644\\u064a\\u0629 \\u0627\\u0644\\u0634\\u0631\\u0639\\u064a\\u0629\\u060c \\u0648\\u0627\\u0644\\u0646\\u0638\\u0627\\u0645\\u064a\\u0629 \\u0627\\u0644\\u0645\\u0642\\u0631\\u0631\\u0629 \\u0644\\u0630\\u0644\\u0643. \\u0648\\u0627\\u0644\\u0644\\u0647 \\u0639\\u0644\\u0649 \\u0630\\u0644\\u0643 \\u0634\\u0647\\u064a\\u062f \\u060c\\u060c\\u060c\\u060c\\u060c \\u062a\\u062d\\u0631\\u064a\\u0631\\u0627\\u064b \\u0641\\u064a: .... /..../........ \\u0647\\u0640 \\u0627\\u0644\\u062a\\u0648\\u0642\\u064a\\u0639: ...............................\",\n          \"\\u0644\\u0627\\u064a\\u0648\\u062c\\u062f\",\n          \"\\u0627\\u0644\\u0645\\u0627\\u062f\\u0629 (2) \\u0641\\u064a \\u062a\\u0646\\u0641\\u064a\\u0630 \\u0623\\u062d\\u0643\\u0627\\u0645 \\u0627\\u0644\\u0641\\u0642\\u0631\\u0629 \\u0627\\u0644\\u0641\\u0631\\u0639\\u064a\\u0629 (\\u062f) \\u0645\\u0646 \\u0627\\u0644\\u0641\\u0642\\u0631\\u0629 (1) \\u0645\\u0646 (\\u0627\\u0644\\u0645\\u0627\\u062f\\u0629 \\u0627\\u0644\\u0633\\u0627\\u0628\\u0639\\u0629) \\u0645\\u0646 \\u0627\\u0644\\u0646\\u0638\\u0627\\u0645 \\u064a\\u0642\\u0635\\u062f \\u0628\\u0639\\u0645\\u0627\\u0644 \\u0627\\u0644\\u0632\\u0631\\u0627\\u0639\\u0629 \\u0648\\u0627\\u0644\\u0631\\u0639\\u0627\\u0629 \\u0627\\u0644\\u062e\\u0627\\u0635\\u064a\\u0646 \\u0648\\u0645\\u0646 \\u0641\\u064a \\u062d\\u0643\\u0645\\u0647\\u0645: \\u0627\\u0644\\u0639\\u0645\\u0627\\u0644 \\u0627\\u0644\\u0632\\u0631\\u0627\\u0639\\u064a\\u064a\\u0646\\u060c \\u0623\\u0648 \\u0627\\u0644\\u0631\\u0639\\u0627\\u0629 \\u0648\\u0645\\u0646 \\u0641\\u064a \\u062d\\u0643\\u0645\\u0647\\u0645 \\u0627\\u0644\\u0630\\u064a\\u0646 \\u064a\\u0639\\u0645\\u0644\\u0648\\u0646 \\u0644\\u062f\\u0649 \\u0627\\u0644\\u0623\\u0641\\u0631\\u0627\\u062f \\u0641\\u064a \\u0645\\u0646\\u0627\\u0632\\u0644\\u0647\\u0645\\u060c \\u0623\\u0648 \\u0641\\u064a \\u0645\\u0632\\u0627\\u0631\\u0639\\u0647\\u0645 \\u0627\\u0644\\u062e\\u0627\\u0635\\u0629\\u060c \\u0623\\u0648 \\u0641\\u064a \\u0631\\u0639\\u0627\\u064a\\u0629 \\u0645\\u0648\\u0627\\u0634\\u064a\\u0647\\u0645 \\u0627\\u0644\\u062e\\u0627\\u0635\\u0629\\u061b \\u062f\\u0648\\u0646 \\u0627\\u0644\\u0645\\u0646\\u0634\\u0622\\u062a.\"\n        ],\n        \"semantic_type\": \"\",\n        \"description\": \"\"\n      }\n    },\n    {\n      \"column\": \"Proposed Text\",\n      \"properties\": {\n        \"dtype\": \"string\",\n        \"num_unique_values\": 16,\n        \"samples\": [\n          \"\\u062d\\u0630\\u0641 \\u0627\\u0644\\u0645\\u0627\\u062f\\u0629 \\u200b\",\n          \"\\u0627\\u0644\\u0645\\u0627\\u062f\\u0629 (7) \\u0641\\u064a \\u062a\\u0646\\u0641\\u064a\\u0630 \\u0623\\u062d\\u0643\\u0627\\u0645 \\u0627\\u0644\\u0645\\u0648\\u0627\\u062f (\\u0627\\u0644\\u062b\\u0627\\u0646\\u064a\\u0629 \\u0648\\u0627\\u0644\\u0639\\u0634\\u0631\\u0648\\u0646\\u060c \\u0648\\u0627\\u0644\\u062b\\u0627\\u0644\\u062b\\u0629 \\u0648\\u0627\\u0644\\u0639\\u0634\\u0631\\u0648\\u0646\\u060c \\u0648\\u0627\\u0644\\u0631\\u0627\\u0628\\u0639\\u0629 \\u0648\\u0627\\u0644\\u0639\\u0634\\u0631\\u0648\\u0646\\u060c \\u0648\\u0627\\u0644\\u062e\\u0627\\u0645\\u0633\\u0629 \\u0648\\u0627\\u0644\\u0639\\u0634\\u0631\\u0648\\u0646) \\u0645\\u0646 \\u0627\\u0644\\u0646\\u0638\\u0627\\u0645 \\u064a\\u062a\\u0645 \\u0627\\u0644\\u062a\\u0646\\u0633\\u064a\\u0642 \\u0627\\u0644\\u0645\\u0634\\u062a\\u0631\\u0643 \\u0628\\u064a\\u0646 \\u0627\\u0644\\u0648\\u0632\\u0627\\u0631\\u0629 \\u0648\\u0635\\u0646\\u062f\\u0648\\u0642 \\u062a\\u0646\\u0645\\u064a\\u0629 \\u0627\\u0644\\u0645\\u0648\\u0627\\u0631\\u062f \\u0627\\u0644\\u0628\\u0634\\u0631\\u064a\\u0629 \\u0645\\u0646 \\u0623\\u062c\\u0644 \\u062a\\u0641\\u0639\\u064a\\u0644 \\u0648\\u062f\\u0639\\u0645 \\u0642\\u0646\\u0648\\u0627\\u062a \\u0627\\u0644\\u062a\\u0648\\u0638\\u064a\\u0641 \\u0627\\u0644\\u062a\\u0627\\u0628\\u0639\\u0629 \\u0644\\u0644\\u0635\\u0646\\u062f\\u0648\\u0642 \\u0644\\u0644\\u0642\\u064a\\u0627\\u0645 \\u0628\\u062f\\u0648\\u0631\\u0647\\u0627 \\u0641\\u064a \\u062a\\u0648\\u0638\\u064a\\u0641 \\u0627\\u0644\\u0623\\u064a\\u062f\\u064a \\u0627\\u0644\\u0639\\u0627\\u0645\\u0644\\u0629 \\u0627\\u0644\\u0648\\u0637\\u0646\\u064a\\u0629\\u060c \\u0648\\u062a\\u0623\\u0647\\u064a\\u0644\\u0647\\u0627 \\u0648\\u062a\\u062f\\u0631\\u064a\\u0628\\u0647\\u0627\\u060c \\u0648\\u0625\\u062d\\u0644\\u0627\\u0644\\u0647\\u0627 \\u0645\\u062d\\u0644 \\u0627\\u0644\\u0639\\u0645\\u0627\\u0644 \\u063a\\u064a\\u0631 \\u0633\\u0639\\u0648\\u062f\\u064a\\u064a\\u0646.\",\n          \"\\u0627\\u0644\\u0645\\u0627\\u062f\\u0629 (15) \\u0645\\u0643\\u0631\\u0631 \\u0641\\u064a \\u062a\\u0646\\u0641\\u064a\\u0630 \\u0623\\u062d\\u0643\\u0627\\u0645 (\\u0627\\u0644\\u0645\\u0627\\u062f\\u0629 \\u0627\\u0644\\u062b\\u0627\\u0644\\u062b\\u0629 \\u0648\\u0627\\u0644\\u0623\\u0631\\u0628\\u0639\\u0648\\u0646) \\u0645\\u0646 \\u0627\\u0644\\u0646\\u0638\\u0627\\u0645: \\u0623\\u0648\\u0644\\u0627/\\u0639\\u0644\\u0649 \\u0643\\u0644 \\u0635\\u0627\\u062d\\u0628 \\u0639\\u0645\\u0644 \\u0627\\u062a\\u0628\\u0627\\u0639 \\u0627\\u0644\\u0622\\u062a\\u064a : \\u0661- \\u0627\\u0644\\u0625\\u0641\\u0635\\u0627\\u062d \\u0639\\u0646 \\u0628\\u064a\\u0627\\u0646\\u0627\\u062a \\u0627\\u0644\\u062a\\u062f\\u0631\\u064a\\u0628 \\u0633\\u0646\\u0648\\u064a\\u0627 \\u0648\\u062a\\u0648\\u062b\\u064a\\u0642\\u0647\\u0627 \\u0639\\u0644\\u0649 \\u0627\\u0644\\u0645\\u0646\\u0635\\u0629 \\u0627\\u0644\\u0627\\u0644\\u0643\\u062a\\u0631\\u0648\\u0646\\u064a\\u0629 \\u0627\\u0644\\u062a\\u064a \\u062a\\u062d\\u062f\\u062f\\u0647\\u0627 \\u0627\\u0644\\u0648\\u0632\\u0627\\u0631\\u0629 2- \\u0627\\u0644\\u0627\\u0644\\u062a\\u0632\\u0627\\u0645 \\u0628\\u062a\\u062f\\u0631\\u064a\\u0628 \\u0639\\u0645\\u0627\\u0644\\u0647 \\u0627\\u0644\\u0633\\u0639\\u0648\\u062f\\u064a\\u0648\\u0646 \\u0648\\u0641\\u0642 \\u0627\\u0644\\u0646\\u0633\\u0628 \\u0648\\u0627\\u0644\\u0622\\u0644\\u064a\\u0627\\u062a \\u0627\\u0644\\u062a\\u064a \\u064a\\u062d\\u062f\\u062f\\u0647\\u0627 \\u0627\\u0644\\u0648\\u0632\\u064a\\u0631 \\u0628\\u0642\\u0631\\u0627\\u0631 \\u0645\\u0646\\u0647. \\u062b\\u0627\\u0646\\u064a\\u0627/ \\u0641\\u064a \\u062d\\u0627\\u0644 \\u0623\\u0643\\u0645\\u0644 \\u0627\\u0644\\u0639\\u0627\\u0645\\u0644 \\u062f\\u0631\\u0627\\u0633\\u062a\\u0647 \\u0648\\u062a\\u0645 \\u0645\\u0646\\u062d\\u0647 \\u0625\\u062c\\u0627\\u0632\\u0629 \\u062f\\u0631\\u0627\\u0633\\u064a\\u0629 \\u0645\\u0646 \\u0642\\u0628\\u0644 \\u0627\\u0644\\u0645\\u0646\\u0634\\u0623\\u0629 \\u062f\\u0648\\u0646 \\u0627\\u0646 \\u062a\\u062d\\u0633\\u0645 \\u0645\\u0646 \\u0623\\u064a\\u0627\\u0645 \\u0627\\u0644\\u0627\\u062c\\u0627\\u0632\\u0629 \\u0627\\u0644\\u0633\\u0646\\u0648\\u064a\\u0629\\u060c \\u0623\\u0648 \\u0642\\u064a\\u0627\\u0645 \\u0635\\u0627\\u062d\\u0628 \\u0627\\u0644\\u0639\\u0645\\u0644 \\u0628\\u062f\\u0641\\u0639 \\u062a\\u0643\\u0627\\u0644\\u064a\\u0641 \\u0627\\u0644\\u062a\\u0639\\u0644\\u064a\\u0645 \\u0644\\u0644\\u0639\\u0627\\u0645\\u0644 \\u0641\\u0625\\u0646 \\u0627\\u0644\\u0639\\u0627\\u0645\\u0644 \\u064a\\u062d\\u062a\\u0633\\u0628 \\u0636\\u0645\\u0646 \\u0627\\u0644\\u0646\\u0633\\u0628\\u0629 \\u0627\\u0644\\u0645\\u0642\\u0631\\u0631\\u0629 \\u0644\\u0644\\u062a\\u062f\\u0631\\u064a\\u0628 \\u0648\\u0627\\u0644\\u062a\\u0623\\u0647\\u064a\\u0644 \\u0645\\u0646 \\u0639\\u0645\\u0627\\u0644\\u0629 \\u0627\\u0644\\u0645\\u0646\\u0634\\u0623\\u0629 \\u0627\\u0644\\u0633\\u0639\\u0648\\u062f\\u064a\\u064a\\u0646.\\u200b\"\n        ],\n        \"semantic_type\": \"\",\n        \"description\": \"\"\n      }\n    },\n    {\n      \"column\": \"URL\",\n      \"properties\": {\n        \"dtype\": \"string\",\n        \"num_unique_values\": 16,\n        \"samples\": [\n          \"https://istitlaa.ncc.gov.sa/ar/Labor/Hrsd/Regulations5/Pages/Article_001.aspx\",\n          \"https://istitlaa.ncc.gov.sa/ar/Labor/Hrsd/Regulations5/Pages/Article_002.aspx\",\n          \"https://istitlaa.ncc.gov.sa/ar/Labor/Hrsd/Regulations5/Pages/Article_006.aspx\"\n        ],\n        \"semantic_type\": \"\",\n        \"description\": \"\"\n      }\n    }\n  ]\n}"
            }
          },
          "metadata": {},
          "execution_count": 29
        }
      ]
    },
    {
      "cell_type": "markdown",
      "source": [
        " Istitlaa – Save Results"
      ],
      "metadata": {
        "id": "wVj4tOdF3_Wo"
      }
    },
    {
      "cell_type": "code",
      "source": [
        "df.to_excel(OUT_XLSX, index=False)\n",
        "df.to_csv(OUT_CSV, index=False, encoding=\"utf-8-sig\")\n",
        "\n",
        "print(\"📄 Excel:\", OUT_XLSX)\n",
        "print(\"📄 CSV  :\", OUT_CSV)\n"
      ],
      "metadata": {
        "colab": {
          "base_uri": "https://localhost:8080/"
        },
        "id": "OU5wgMpg4FSN",
        "outputId": "005cfd99-6f39-4bd8-a0ef-76976e72767c"
      },
      "execution_count": null,
      "outputs": [
        {
          "output_type": "stream",
          "name": "stdout",
          "text": [
            "📄 Excel: istitlaa_laborlaw.xlsx\n",
            "📄 CSV  : istitlaa_laborlaw.csv\n"
          ]
        }
      ]
    },
    {
      "cell_type": "markdown",
      "source": [
        " Istitlaa – Download File (Colab )"
      ],
      "metadata": {
        "id": "MeA8Ft-s4HGQ"
      }
    },
    {
      "cell_type": "code",
      "source": [
        "from google.colab import files\n",
        "files.download(OUT_XLSX)\n"
      ],
      "metadata": {
        "colab": {
          "base_uri": "https://localhost:8080/",
          "height": 17
        },
        "id": "jlINeb7l4OZ9",
        "outputId": "2b710f35-2161-417d-b0fe-c8554c839e9a"
      },
      "execution_count": null,
      "outputs": [
        {
          "output_type": "display_data",
          "data": {
            "text/plain": [
              "<IPython.core.display.Javascript object>"
            ],
            "application/javascript": [
              "\n",
              "    async function download(id, filename, size) {\n",
              "      if (!google.colab.kernel.accessAllowed) {\n",
              "        return;\n",
              "      }\n",
              "      const div = document.createElement('div');\n",
              "      const label = document.createElement('label');\n",
              "      label.textContent = `Downloading \"${filename}\": `;\n",
              "      div.appendChild(label);\n",
              "      const progress = document.createElement('progress');\n",
              "      progress.max = size;\n",
              "      div.appendChild(progress);\n",
              "      document.body.appendChild(div);\n",
              "\n",
              "      const buffers = [];\n",
              "      let downloaded = 0;\n",
              "\n",
              "      const channel = await google.colab.kernel.comms.open(id);\n",
              "      // Send a message to notify the kernel that we're ready.\n",
              "      channel.send({})\n",
              "\n",
              "      for await (const message of channel.messages) {\n",
              "        // Send a message to notify the kernel that we're ready.\n",
              "        channel.send({})\n",
              "        if (message.buffers) {\n",
              "          for (const buffer of message.buffers) {\n",
              "            buffers.push(buffer);\n",
              "            downloaded += buffer.byteLength;\n",
              "            progress.value = downloaded;\n",
              "          }\n",
              "        }\n",
              "      }\n",
              "      const blob = new Blob(buffers, {type: 'application/binary'});\n",
              "      const a = document.createElement('a');\n",
              "      a.href = window.URL.createObjectURL(blob);\n",
              "      a.download = filename;\n",
              "      div.appendChild(a);\n",
              "      a.click();\n",
              "      div.remove();\n",
              "    }\n",
              "  "
            ]
          },
          "metadata": {}
        },
        {
          "output_type": "display_data",
          "data": {
            "text/plain": [
              "<IPython.core.display.Javascript object>"
            ],
            "application/javascript": [
              "download(\"download_2edd9856-d8b5-4224-bebd-38a0e2555d62\", \"istitlaa_laborlaw.xlsx\", 13181)"
            ]
          },
          "metadata": {}
        }
      ]
    },
    {
      "cell_type": "markdown",
      "source": [
        "Closing chrome after scraping all the wesites:"
      ],
      "metadata": {
        "id": "AmlaYfTJg18r"
      }
    },
    {
      "cell_type": "code",
      "source": [
        "driver.quit()"
      ],
      "metadata": {
        "id": "Ftttz9Rjfjx7"
      },
      "execution_count": null,
      "outputs": []
    }
  ]
}